{
 "cells": [
  {
   "cell_type": "markdown",
   "metadata": {},
   "source": [
    "# *Proyecto_Luciano:* #"
   ]
  },
  {
   "cell_type": "markdown",
   "metadata": {},
   "source": [
    "***"
   ]
  },
  {
   "cell_type": "markdown",
   "metadata": {},
   "source": [
    "### - Organizacion de los Datos: ###"
   ]
  },
  {
   "cell_type": "code",
   "execution_count": 1,
   "metadata": {},
   "outputs": [],
   "source": [
    "# Importar las bibliotecas necesarias\n",
    "import pandas as pd\n",
    "import numpy as np"
   ]
  },
  {
   "cell_type": "markdown",
   "metadata": {},
   "source": [
    "***"
   ]
  },
  {
   "cell_type": "code",
   "execution_count": 22,
   "metadata": {},
   "outputs": [],
   "source": [
    "df_nacionalidad = pd.DataFrame(columns=['Nacionalidad'])"
   ]
  },
  {
   "cell_type": "code",
   "execution_count": 23,
   "metadata": {},
   "outputs": [],
   "source": [
    "df_nacionalidad['Nacionalidad'] = [\"Argentina\", \"Bolivia\", \"Brasil\", \"Chile\", \"Colombia\", \"Ecuador\", \"Paraguay\", \"Perú\", \"Uruguay\", \"Venezuela\"]"
   ]
  },
  {
   "cell_type": "code",
   "execution_count": 24,
   "metadata": {},
   "outputs": [],
   "source": [
    "df_nacionalidad.to_excel(\"Nacionalidad.xlsx\", index=False)"
   ]
  },
  {
   "cell_type": "code",
   "execution_count": 3,
   "metadata": {},
   "outputs": [],
   "source": [
    "df_clientes = pd.read_excel('Clientes.xlsx')\n",
    "df_empresas = pd.read_excel('Empresas.xlsx')\n",
    "df_abogados = pd.read_excel('Abogados.xlsx')\n",
    "\n",
    "# Crear las Series combinadas\n",
    "df_nombre_cliente = df_clientes['Apellido'] + ' ' + df_clientes['Nombre Completo']\n",
    "df_nombre_empresa = df_empresas['Nombre de la Empresa']\n",
    "df_nombre_abogados = df_abogados['Apellido'] + ' ' + df_abogados['Nombre Completo']"
   ]
  },
  {
   "cell_type": "code",
   "execution_count": 8,
   "metadata": {},
   "outputs": [
    {
     "data": {
      "text/html": [
       "<div>\n",
       "<style scoped>\n",
       "    .dataframe tbody tr th:only-of-type {\n",
       "        vertical-align: middle;\n",
       "    }\n",
       "\n",
       "    .dataframe tbody tr th {\n",
       "        vertical-align: top;\n",
       "    }\n",
       "\n",
       "    .dataframe thead th {\n",
       "        text-align: right;\n",
       "    }\n",
       "</style>\n",
       "<table border=\"1\" class=\"dataframe\">\n",
       "  <thead>\n",
       "    <tr style=\"text-align: right;\">\n",
       "      <th></th>\n",
       "      <th>Abogado</th>\n",
       "    </tr>\n",
       "  </thead>\n",
       "  <tbody>\n",
       "    <tr>\n",
       "      <th>0</th>\n",
       "      <td>Pacios Blas</td>\n",
       "    </tr>\n",
       "    <tr>\n",
       "      <th>1</th>\n",
       "      <td>Pacios Blas</td>\n",
       "    </tr>\n",
       "    <tr>\n",
       "      <th>2</th>\n",
       "      <td>Pacios Blas</td>\n",
       "    </tr>\n",
       "    <tr>\n",
       "      <th>3</th>\n",
       "      <td>Pacios Blas</td>\n",
       "    </tr>\n",
       "    <tr>\n",
       "      <th>4</th>\n",
       "      <td>Pacios Blas</td>\n",
       "    </tr>\n",
       "    <tr>\n",
       "      <th>5</th>\n",
       "      <td>Pacios Blas</td>\n",
       "    </tr>\n",
       "    <tr>\n",
       "      <th>6</th>\n",
       "      <td>Pacios Blas</td>\n",
       "    </tr>\n",
       "    <tr>\n",
       "      <th>7</th>\n",
       "      <td>Pacios Blas</td>\n",
       "    </tr>\n",
       "    <tr>\n",
       "      <th>8</th>\n",
       "      <td>Fernandoer wer</td>\n",
       "    </tr>\n",
       "    <tr>\n",
       "      <th>9</th>\n",
       "      <td>Fernandoew Blas</td>\n",
       "    </tr>\n",
       "    <tr>\n",
       "      <th>10</th>\n",
       "      <td>f f</td>\n",
       "    </tr>\n",
       "    <tr>\n",
       "      <th>11</th>\n",
       "      <td>kñl lkñ</td>\n",
       "    </tr>\n",
       "    <tr>\n",
       "      <th>12</th>\n",
       "      <td>NaN</td>\n",
       "    </tr>\n",
       "    <tr>\n",
       "      <th>13</th>\n",
       "      <td>NaN</td>\n",
       "    </tr>\n",
       "    <tr>\n",
       "      <th>14</th>\n",
       "      <td>NaN</td>\n",
       "    </tr>\n",
       "    <tr>\n",
       "      <th>15</th>\n",
       "      <td>NaN</td>\n",
       "    </tr>\n",
       "    <tr>\n",
       "      <th>16</th>\n",
       "      <td>NaN</td>\n",
       "    </tr>\n",
       "    <tr>\n",
       "      <th>17</th>\n",
       "      <td>sawefew pjh</td>\n",
       "    </tr>\n",
       "    <tr>\n",
       "      <th>18</th>\n",
       "      <td>uoi yuo</td>\n",
       "    </tr>\n",
       "    <tr>\n",
       "      <th>19</th>\n",
       "      <td>jhh hj</td>\n",
       "    </tr>\n",
       "    <tr>\n",
       "      <th>20</th>\n",
       "      <td>qw qw</td>\n",
       "    </tr>\n",
       "  </tbody>\n",
       "</table>\n",
       "</div>"
      ],
      "text/plain": [
       "            Abogado\n",
       "0       Pacios Blas\n",
       "1       Pacios Blas\n",
       "2       Pacios Blas\n",
       "3       Pacios Blas\n",
       "4       Pacios Blas\n",
       "5       Pacios Blas\n",
       "6       Pacios Blas\n",
       "7       Pacios Blas\n",
       "8    Fernandoer wer\n",
       "9   Fernandoew Blas\n",
       "10              f f\n",
       "11          kñl lkñ\n",
       "12              NaN\n",
       "13              NaN\n",
       "14              NaN\n",
       "15              NaN\n",
       "16              NaN\n",
       "17      sawefew pjh\n",
       "18          uoi yuo\n",
       "19           jhh hj\n",
       "20            qw qw"
      ]
     },
     "execution_count": 8,
     "metadata": {},
     "output_type": "execute_result"
    }
   ],
   "source": [
    "df_nombre_abogados = pd.DataFrame(df_nombre_abogados, columns=['Abogado'])\n",
    "df_nombre_abogados   "
   ]
  },
  {
   "cell_type": "code",
   "execution_count": 31,
   "metadata": {},
   "outputs": [
    {
     "ename": "NameError",
     "evalue": "name 'df_juicios' is not defined",
     "output_type": "error",
     "traceback": [
      "\u001b[1;31m---------------------------------------------------------------------------\u001b[0m",
      "\u001b[1;31mNameError\u001b[0m                                 Traceback (most recent call last)",
      "Cell \u001b[1;32mIn[31], line 1\u001b[0m\n\u001b[1;32m----> 1\u001b[0m \u001b[43mdf_juicios\u001b[49m\n",
      "\u001b[1;31mNameError\u001b[0m: name 'df_juicios' is not defined"
     ]
    }
   ],
   "source": [
    "df_juicios"
   ]
  },
  {
   "cell_type": "markdown",
   "metadata": {},
   "source": [
    "### - Tabla General para todos los Procesos: ###"
   ]
  },
  {
   "cell_type": "code",
   "execution_count": 2,
   "metadata": {},
   "outputs": [],
   "source": [
    "#  Lectura del archivo CIVIL-DCI.xlsx\n",
    "df_clientes = pd.read_excel('clientes.xlsx')\n",
    "df_empresas = pd.read_excel('empresas.xlsx')"
   ]
  },
  {
   "cell_type": "code",
   "execution_count": 7,
   "metadata": {},
   "outputs": [],
   "source": [
    "# Crear las Series combinadas\n",
    "df_nombre_cliente = df_clientes['Apellido'] + ' ' + df_clientes['Nombre Completo']\n",
    "df_nombre_empresa = df_empresas['Nombre de la Empresa']\n",
    "\n",
    "# Concatenar las Series en una sola columna de un nuevo DataFrame\n",
    "df_cliente_empresa = pd.concat([df_nombre_cliente, df_nombre_empresa], ignore_index=True)\n",
    "df_cliente_empresa = pd.DataFrame(df_cliente_empresa, columns=['Cliente'])\n",
    "# Asegurarse de que todos los valores sean cadenas de texto y eliminar espacios en blanco\n",
    "df_cliente_empresa['Cliente'] = df_cliente_empresa['Cliente'].astype(str).str.strip()\n",
    " # Ordenar la columna 'Cliente' alfabéticamente, ignorando mayúsculas y minúsculas\n",
    "df_cliente_empresa = df_cliente_empresa.sort_values(by='Cliente', key=lambda col: col.str.lower()).reset_index(drop=True)"
   ]
  },
  {
   "cell_type": "code",
   "execution_count": 21,
   "metadata": {},
   "outputs": [],
   "source": [
    "fueros = ['Penal', 'Apelaciones en lo Penal de Instrucción' , 'Civil y Comercial Común', 'Civil en Documentos y Locaciones', 'Civil en Familia y Sucesiones', 'Apelaciones del Trabajo', 'Contencioso Administrativo', 'Jueces Correccionales', 'Instrucción', 'Ejecución en lo Penal', 'Contravencionales', 'Menores', 'Civil y Comercial Común', 'Concursos y Sociedades', 'Cobros y Apremios', 'Civil en Documentos y Locaciones', 'Civil en Familia y Sucesiones', 'Contencioso Administrativo', 'Trabajo', 'Paz', 'Ministerio Público']"
   ]
  },
  {
   "cell_type": "code",
   "execution_count": 22,
   "metadata": {},
   "outputs": [
    {
     "data": {
      "text/plain": [
       "['Apelaciones del Trabajo',\n",
       " 'Apelaciones en lo Penal de Instrucción',\n",
       " 'Civil en Documentos y Locaciones',\n",
       " 'Civil en Documentos y Locaciones',\n",
       " 'Civil en Familia y Sucesiones',\n",
       " 'Civil en Familia y Sucesiones',\n",
       " 'Civil y Comercial Común',\n",
       " 'Civil y Comercial Común',\n",
       " 'Cobros y Apremios',\n",
       " 'Concursos y Sociedades',\n",
       " 'Contencioso Administrativo',\n",
       " 'Contencioso Administrativo',\n",
       " 'Contravencionales',\n",
       " 'Ejecución en lo Penal',\n",
       " 'Instrucción',\n",
       " 'Jueces Correccionales',\n",
       " 'Menores',\n",
       " 'Ministerio Público',\n",
       " 'Paz',\n",
       " 'Penal',\n",
       " 'Trabajo']"
      ]
     },
     "execution_count": 22,
     "metadata": {},
     "output_type": "execute_result"
    }
   ],
   "source": [
    "fueros_ordenado = sorted(fueros)\n",
    "fueros_ordenado"
   ]
  },
  {
   "cell_type": "code",
   "execution_count": 26,
   "metadata": {},
   "outputs": [
    {
     "ename": "NameError",
     "evalue": "name 'cliente' is not defined",
     "output_type": "error",
     "traceback": [
      "\u001b[1;31m---------------------------------------------------------------------------\u001b[0m",
      "\u001b[1;31mNameError\u001b[0m                                 Traceback (most recent call last)",
      "Cell \u001b[1;32mIn[26], line 2\u001b[0m\n\u001b[0;32m      1\u001b[0m nueva_fila \u001b[38;5;241m=\u001b[39m {\n\u001b[1;32m----> 2\u001b[0m                 \u001b[38;5;124m'\u001b[39m\u001b[38;5;124mCliente\u001b[39m\u001b[38;5;124m'\u001b[39m: \u001b[43mcliente\u001b[49m,\n\u001b[0;32m      3\u001b[0m                 \u001b[38;5;124m'\u001b[39m\u001b[38;5;124mAbogado\u001b[39m\u001b[38;5;124m'\u001b[39m: abogado,\n\u001b[0;32m      4\u001b[0m                 \u001b[38;5;124m'\u001b[39m\u001b[38;5;124mFuero\u001b[39m\u001b[38;5;124m'\u001b[39m: fuero,\n\u001b[0;32m      5\u001b[0m                 \u001b[38;5;124m'\u001b[39m\u001b[38;5;124mSección\u001b[39m\u001b[38;5;124m'\u001b[39m: sec,\n\u001b[0;32m      6\u001b[0m                 \u001b[38;5;124m'\u001b[39m\u001b[38;5;124mOGA\u001b[39m\u001b[38;5;124m'\u001b[39m: oga,\n\u001b[0;32m      7\u001b[0m                 \u001b[38;5;124m'\u001b[39m\u001b[38;5;124mCAM/SEC\u001b[39m\u001b[38;5;124m'\u001b[39m: cam_sec,\n\u001b[0;32m      8\u001b[0m                 \u001b[38;5;124m'\u001b[39m\u001b[38;5;124mN° Expediente\u001b[39m\u001b[38;5;124m'\u001b[39m: n_exp,\n\u001b[0;32m      9\u001b[0m                 \u001b[38;5;124m'\u001b[39m\u001b[38;5;124mFecha\u001b[39m\u001b[38;5;124m'\u001b[39m: fecha,\n\u001b[0;32m     10\u001b[0m                 \u001b[38;5;124m'\u001b[39m\u001b[38;5;124mPruebas\u001b[39m\u001b[38;5;124m'\u001b[39m: prueba,\n\u001b[0;32m     11\u001b[0m                 \u001b[38;5;124m'\u001b[39m\u001b[38;5;124mActor\u001b[39m\u001b[38;5;124m'\u001b[39m: actor,\n\u001b[0;32m     12\u001b[0m                 \u001b[38;5;124m'\u001b[39m\u001b[38;5;124mContra\u001b[39m\u001b[38;5;124m'\u001b[39m: contra,\n\u001b[0;32m     13\u001b[0m                 \u001b[38;5;124m'\u001b[39m\u001b[38;5;124mDemandado\u001b[39m\u001b[38;5;124m'\u001b[39m: demandado,\n\u001b[0;32m     14\u001b[0m                 \u001b[38;5;124m'\u001b[39m\u001b[38;5;124mSobre\u001b[39m\u001b[38;5;124m'\u001b[39m: sobre,\n\u001b[0;32m     15\u001b[0m                 \u001b[38;5;124m'\u001b[39m\u001b[38;5;124mObjeto\u001b[39m\u001b[38;5;124m'\u001b[39m: objeto,\n\u001b[0;32m     16\u001b[0m                 \u001b[38;5;124m'\u001b[39m\u001b[38;5;124mMovimiento\u001b[39m\u001b[38;5;124m'\u001b[39m: movimiento,\n\u001b[0;32m     17\u001b[0m                 \u001b[38;5;124m'\u001b[39m\u001b[38;5;124mComentarios\u001b[39m\u001b[38;5;124m'\u001b[39m: comentarios,\n\u001b[0;32m     18\u001b[0m                 \u001b[38;5;124m'\u001b[39m\u001b[38;5;124mControl Fecha\u001b[39m\u001b[38;5;124m'\u001b[39m: control,\n\u001b[0;32m     19\u001b[0m                 \u001b[38;5;124m'\u001b[39m\u001b[38;5;124mEstado\u001b[39m\u001b[38;5;124m'\u001b[39m: estado}\n\u001b[0;32m     22\u001b[0m df_nueva_fila \u001b[38;5;241m=\u001b[39m pd\u001b[38;5;241m.\u001b[39mDataFrame(nueva_fila)\n",
      "\u001b[1;31mNameError\u001b[0m: name 'cliente' is not defined"
     ]
    }
   ],
   "source": [
    "nueva_fila = {\n",
    "                'Cliente': cliente,\n",
    "                'Abogado': abogado,\n",
    "                'Fuero': fuero,\n",
    "                'Sección': sec,\n",
    "                'OGA': oga,\n",
    "                'CAM/SEC': cam_sec,\n",
    "                'N° Expediente': n_exp,\n",
    "                'Fecha': fecha,\n",
    "                'Pruebas': prueba,\n",
    "                'Actor': actor,\n",
    "                'Contra': contra,\n",
    "                'Demandado': demandado,\n",
    "                'Sobre': sobre,\n",
    "                'Objeto': objeto,\n",
    "                'Movimiento': movimiento,\n",
    "                'Comentarios': comentarios,\n",
    "                'Control Fecha': control,\n",
    "                'Estado': estado}\n",
    "\n",
    "                \n",
    "df_nueva_fila = pd.DataFrame(nueva_fila)"
   ]
  }
 ],
 "metadata": {
  "kernelspec": {
   "display_name": "Python 3",
   "language": "python",
   "name": "python3"
  },
  "language_info": {
   "codemirror_mode": {
    "name": "ipython",
    "version": 3
   },
   "file_extension": ".py",
   "mimetype": "text/x-python",
   "name": "python",
   "nbconvert_exporter": "python",
   "pygments_lexer": "ipython3",
   "version": "3.11.6"
  }
 },
 "nbformat": 4,
 "nbformat_minor": 2
}
